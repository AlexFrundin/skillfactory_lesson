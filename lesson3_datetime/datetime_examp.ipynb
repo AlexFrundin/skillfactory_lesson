{
 "cells": [
  {
   "cell_type": "code",
   "execution_count": 1,
   "metadata": {},
   "outputs": [],
   "source": [
    "from datetime import datetime, timedelta\n",
    "date_string='May 9 2017 9:00AM'\n",
    "date_=datetime.strptime(date_string,'%B %d %Y %I:%M%p')\n",
    "date_now = date_+timedelta(hours=1)"
   ]
  },
  {
   "cell_type": "code",
   "execution_count": 2,
   "metadata": {},
   "outputs": [
    {
     "data": {
      "text/plain": [
       "datetime.datetime(2017, 5, 9, 10, 0)"
      ]
     },
     "execution_count": 2,
     "metadata": {},
     "output_type": "execute_result"
    }
   ],
   "source": [
    "date_now"
   ]
  },
  {
   "cell_type": "code",
   "execution_count": 3,
   "metadata": {},
   "outputs": [
    {
     "data": {
      "text/plain": [
       "'2017-05-09'"
      ]
     },
     "execution_count": 3,
     "metadata": {},
     "output_type": "execute_result"
    }
   ],
   "source": [
    "date_now.strftime('%Y-%m-%d')"
   ]
  },
  {
   "cell_type": "code",
   "execution_count": 5,
   "metadata": {},
   "outputs": [],
   "source": [
    "startDate = '2017-01-01'\n",
    "endDate = '2017-01-03'\n",
    "\n",
    "\n",
    "current_day = datetime.strptime(startDate, '%Y-%m-%d')\n"
   ]
  },
  {
   "cell_type": "code",
   "execution_count": 6,
   "metadata": {},
   "outputs": [
    {
     "data": {
      "text/plain": [
       "datetime.datetime(2017, 1, 1, 0, 0)"
      ]
     },
     "execution_count": 6,
     "metadata": {},
     "output_type": "execute_result"
    }
   ],
   "source": [
    "current_day"
   ]
  },
  {
   "cell_type": "code",
   "execution_count": 7,
   "metadata": {},
   "outputs": [],
   "source": [
    "start_date = datetime.strptime(startDate, '%Y-%m-%d')\n",
    "end_date = datetime.strptime(endDate, '%Y-%m-%d')"
   ]
  },
  {
   "cell_type": "code",
   "execution_count": 8,
   "metadata": {},
   "outputs": [
    {
     "name": "stdout",
     "output_type": "stream",
     "text": [
      "2017-01-01 00:00:00\n",
      "2017-01-01 01:00:00\n",
      "2017-01-01 02:00:00\n",
      "2017-01-01 03:00:00\n",
      "2017-01-01 04:00:00\n",
      "2017-01-01 05:00:00\n",
      "2017-01-01 06:00:00\n",
      "2017-01-01 07:00:00\n",
      "2017-01-01 08:00:00\n",
      "2017-01-01 09:00:00\n",
      "2017-01-01 10:00:00\n",
      "2017-01-01 11:00:00\n",
      "2017-01-01 12:00:00\n",
      "2017-01-01 13:00:00\n",
      "2017-01-01 14:00:00\n",
      "2017-01-01 15:00:00\n",
      "2017-01-01 16:00:00\n",
      "2017-01-01 17:00:00\n",
      "2017-01-01 18:00:00\n",
      "2017-01-01 19:00:00\n",
      "2017-01-01 20:00:00\n",
      "2017-01-01 21:00:00\n",
      "2017-01-01 22:00:00\n",
      "2017-01-01 23:00:00\n",
      "2017-01-02 00:00:00\n",
      "2017-01-02 01:00:00\n",
      "2017-01-02 02:00:00\n",
      "2017-01-02 03:00:00\n",
      "2017-01-02 04:00:00\n",
      "2017-01-02 05:00:00\n",
      "2017-01-02 06:00:00\n",
      "2017-01-02 07:00:00\n",
      "2017-01-02 08:00:00\n",
      "2017-01-02 09:00:00\n",
      "2017-01-02 10:00:00\n",
      "2017-01-02 11:00:00\n",
      "2017-01-02 12:00:00\n",
      "2017-01-02 13:00:00\n",
      "2017-01-02 14:00:00\n",
      "2017-01-02 15:00:00\n",
      "2017-01-02 16:00:00\n",
      "2017-01-02 17:00:00\n",
      "2017-01-02 18:00:00\n",
      "2017-01-02 19:00:00\n",
      "2017-01-02 20:00:00\n",
      "2017-01-02 21:00:00\n",
      "2017-01-02 22:00:00\n",
      "2017-01-02 23:00:00\n",
      "2017-01-03 00:00:00\n"
     ]
    }
   ],
   "source": [
    "while  current_day<=end_date:\n",
    "    print(current_day.strftime('%Y-%m-%d %H:%M:%S'))\n",
    "    current_day+=timedelta(hours=1)"
   ]
  },
  {
   "cell_type": "code",
   "execution_count": 21,
   "metadata": {},
   "outputs": [
    {
     "name": "stdout",
     "output_type": "stream",
     "text": [
      "12\n"
     ]
    }
   ],
   "source": [
    "hourly_stats = {}\n",
    "total_amount = 0\n",
    "with open( '../data/data_no_header.txt', 'r' ) as f:\n",
    "    for line in f:\n",
    "        line = line.strip().split('\\t')\n",
    "        date_string = line[1]\n",
    "        date_datetime = datetime.strptime( date_string, '%d.%m.%Y %H:%M' )\n",
    "        hour = date_datetime.hour\n",
    "        try:\n",
    "            hourly_stats[hour]+=1\n",
    "        except:\n",
    "            hourly_stats[hour]=1\n",
    "        total_amount += 1\n",
    "print(hourly_stats[19])"
   ]
  },
  {
   "cell_type": "code",
   "execution_count": 22,
   "metadata": {},
   "outputs": [
    {
     "name": "stdout",
     "output_type": "stream",
     "text": [
      "0.05442176870748299\n",
      "0.03741496598639456\n",
      "0.027210884353741496\n",
      "0.047619047619047616\n",
      "0.027210884353741496\n",
      "0.027210884353741496\n",
      "0.04421768707482993\n",
      "0.05102040816326531\n",
      "0.030612244897959183\n",
      "0.047619047619047616\n",
      "0.04421768707482993\n",
      "0.07142857142857142\n",
      "0.06462585034013606\n",
      "0.04421768707482993\n",
      "0.04081632653061224\n",
      "0.027210884353741496\n",
      "0.03741496598639456\n",
      "0.034013605442176874\n",
      "0.04421768707482993\n",
      "0.03741496598639456\n",
      "0.047619047619047616\n",
      "0.034013605442176874\n",
      "0.047619047619047616\n",
      "0.030612244897959183\n"
     ]
    }
   ],
   "source": [
    "total_sum_amount = 0\n",
    "for hour, number_of_orders in hourly_stats.items():\n",
    "    hourly_stats[ hour ] = number_of_orders / total_amount\n",
    "    print(hourly_stats[hour])"
   ]
  },
  {
   "cell_type": "code",
   "execution_count": 23,
   "metadata": {},
   "outputs": [
    {
     "name": "stdout",
     "output_type": "stream",
     "text": [
      "0.05442176870748299\n",
      "0.09183673469387754\n",
      "0.11904761904761904\n",
      "0.16666666666666666\n",
      "0.19387755102040816\n",
      "0.22108843537414966\n",
      "0.2653061224489796\n",
      "0.3163265306122449\n",
      "0.3469387755102041\n",
      "0.3945578231292517\n",
      "0.4387755102040816\n",
      "0.5102040816326531\n",
      "0.5748299319727891\n",
      "0.6190476190476191\n",
      "0.6598639455782314\n",
      "0.6870748299319729\n",
      "0.7244897959183675\n",
      "0.7585034013605444\n",
      "0.8027210884353744\n",
      "0.840136054421769\n",
      "0.8877551020408165\n",
      "0.9217687074829934\n",
      "0.9693877551020411\n",
      "1.0000000000000002\n"
     ]
    }
   ],
   "source": [
    "for value in hourly_stats.values():\n",
    "    total_sum_amount += value\n",
    "    print(total_sum_amount)"
   ]
  },
  {
   "cell_type": "code",
   "execution_count": 25,
   "metadata": {},
   "outputs": [
    {
     "name": "stdout",
     "output_type": "stream",
     "text": [
      "100.00%\n"
     ]
    }
   ],
   "source": [
    "print( '{:.2%}'.format( total_sum_amount ) )"
   ]
  },
  {
   "cell_type": "code",
   "execution_count": 27,
   "metadata": {},
   "outputs": [
    {
     "name": "stdout",
     "output_type": "stream",
     "text": [
      "0.9900000000000004\n",
      "99.00%\n"
     ]
    }
   ],
   "source": [
    "hourly_stats = {}\n",
    "total_amount = 0\n",
    "with open( '../data/data_no_header.txt', 'r' ) as f:\n",
    "    for line in f:\n",
    "        line = line.strip().split('\\t')\n",
    "        date_string = line[1]\n",
    "        date_datetime = datetime.strptime( date_string, '%d.%m.%Y %H:%M' )\n",
    "        hour = date_datetime.hour\n",
    "        try:\n",
    "            hourly_stats[hour]+=1\n",
    "        except:\n",
    "            hourly_stats[hour]=1\n",
    "        total_amount += 1\n",
    "total_sum_amount = 0\n",
    "for hour, number_of_orders in hourly_stats.items():\n",
    "    hourly_stats[ hour ] = number_of_orders / total_amount\n",
    "for value in hourly_stats.values():\n",
    "    total_sum_amount += round(value,2)\n",
    "print(total_sum_amount)\n",
    "print( '{:.2%}'.format( total_sum_amount ) )"
   ]
  },
  {
   "cell_type": "code",
   "execution_count": 35,
   "metadata": {
    "scrolled": false
   },
   "outputs": [
    {
     "name": "stdout",
     "output_type": "stream",
     "text": [
      "1424 [[datetime.datetime(2016, 10, 1, 17, 1), 13.8], [datetime.datetime(2016, 10, 3, 6, 50), 12.8], [datetime.datetime(2016, 10, 4, 5, 27), 17.2], [datetime.datetime(2016, 10, 4, 16, 14), 16.0], [datetime.datetime(2016, 10, 4, 18, 21), 14.2], [datetime.datetime(2016, 10, 5, 23, 33), 19.6], [datetime.datetime(2016, 10, 6, 7, 27), 22.4], [datetime.datetime(2016, 10, 7, 3, 1), 14.8], [datetime.datetime(2016, 10, 7, 16, 8), 13.0], [datetime.datetime(2016, 10, 7, 16, 12), 13.6], [datetime.datetime(2016, 10, 8, 12, 41), 12.6], [datetime.datetime(2016, 10, 8, 15, 26), 19.2], [datetime.datetime(2016, 10, 8, 17, 21), 20.2], [datetime.datetime(2016, 10, 9, 8, 0), 16.0], [datetime.datetime(2016, 10, 10, 1, 24), 11.6]]\n"
     ]
    }
   ],
   "source": [
    "Started = True\n",
    "user_info = {}\n",
    "user_id_transactions = []\n",
    "with open( '../data/data_no_header.txt', 'r' ) as f:\n",
    "    for line in f:      \n",
    "        line = line.strip().split('\\t')      \n",
    "        # дата транзакции, по максимальному и минимальному значению которой будем считать LT\n",
    "        dateTime = datetime.strptime( line[1], '%d.%m.%Y %H:%M' )      \n",
    "        user_id = line[2]\n",
    "  \n",
    "        # сумма покупки\n",
    "        amount_paid = float( line[8].replace(',', '.') )\n",
    "   \n",
    "        if Started:\n",
    "            previous_user_id = user_id\n",
    "            user_info[previous_user_id]= 1\n",
    "            user_id_transactions = [[dateTime, amount_paid]]\n",
    "            Started = False     \n",
    "        else:\n",
    "            if user_id == previous_user_id:\n",
    "                user_info[previous_user_id]+=1\n",
    "                user_id_transactions.append([dateTime,amount_paid])\n",
    "            else:\n",
    "                previous_user_id = user_id\n",
    "                user_id_transactions = [[dateTime, amount_paid]]\n",
    "                user_info[previous_user_id] = 1\n",
    "    print(previous_user_id, user_id_transactions)\n",
    "                \n",
    "    "
   ]
  },
  {
   "cell_type": "code",
   "execution_count": 51,
   "metadata": {},
   "outputs": [],
   "source": [
    "def LT_calculation(uid_transactions):\n",
    "    first_order = uid_transactions[0]\n",
    "    lat_order = uid_transactions[-1]\n",
    "    first_order_date = first_order[0]\n",
    "    last_order_date = first_order[0]\n",
    "    return (last_order_date-first_order_date).days"
   ]
  },
  {
   "cell_type": "code",
   "execution_count": 52,
   "metadata": {},
   "outputs": [
    {
     "name": "stdout",
     "output_type": "stream",
     "text": [
      "1010 0\n",
      "1036 0\n",
      "1041 0\n",
      "1042 0\n",
      "1047 0\n",
      "1052 0\n",
      "1057 0\n",
      "1062 0\n",
      "1067 0\n",
      "1078 0\n",
      "1085 0\n",
      "1096 0\n",
      "1098 0\n",
      "1100 0\n",
      "1105 0\n",
      "1108 0\n",
      "1111 0\n",
      "1112 0\n",
      "1113 0\n",
      "1114 0\n",
      "1116 0\n",
      "1118 0\n",
      "1123 0\n",
      "1128 0\n",
      "1134 0\n",
      "1135 0\n",
      "1136 0\n",
      "1140 0\n",
      "1141 0\n",
      "1145 0\n",
      "1149 0\n",
      "1150 0\n",
      "1154 0\n",
      "1159 0\n",
      "1164 0\n",
      "1167 0\n",
      "1175 0\n",
      "1181 0\n",
      "1182 0\n",
      "1193 0\n",
      "1198 0\n",
      "1201 0\n",
      "1203 0\n",
      "1207 0\n",
      "1208 0\n",
      "1209 0\n",
      "1213 0\n",
      "1218 0\n",
      "1219 0\n",
      "1223 0\n",
      "1224 0\n",
      "1226 0\n",
      "1228 0\n",
      "1230 0\n",
      "1233 0\n",
      "1236 0\n",
      "1238 0\n",
      "1242 0\n",
      "1243 0\n",
      "1246 0\n",
      "1248 0\n",
      "1252 0\n",
      "1253 0\n",
      "1258 0\n",
      "1263 0\n",
      "1267 0\n",
      "1268 0\n",
      "1269 0\n",
      "1270 0\n",
      "1273 0\n",
      "1274 0\n",
      "1278 0\n",
      "1279 0\n",
      "1281 0\n",
      "1283 0\n",
      "1288 0\n",
      "1291 0\n",
      "1293 0\n",
      "1294 0\n",
      "1296 0\n",
      "1298 0\n",
      "1300 0\n",
      "1302 0\n",
      "1303 0\n",
      "1308 0\n",
      "1313 0\n",
      "1315 0\n",
      "1318 0\n",
      "1320 0\n",
      "1323 0\n",
      "1328 0\n",
      "1330 0\n",
      "1331 0\n",
      "1332 0\n",
      "1333 0\n",
      "1334 0\n",
      "1343 0\n",
      "1350 0\n",
      "1351 0\n",
      "1353 0\n",
      "1354 0\n",
      "1355 0\n",
      "1359 0\n",
      "1362 0\n",
      "1363 0\n",
      "1364 0\n",
      "1366 0\n",
      "1367 0\n",
      "1371 0\n",
      "1372 0\n",
      "1374 0\n",
      "1377 0\n",
      "1380 0\n",
      "1382 0\n",
      "1383 0\n",
      "1386 0\n",
      "1387 0\n",
      "1388 0\n",
      "1392 0\n",
      "1393 0\n",
      "1394 0\n",
      "1397 0\n",
      "1398 0\n"
     ]
    }
   ],
   "source": [
    "Started = True\n",
    "user_info = {}\n",
    "user_id_transactions = []\n",
    "total = 0\n",
    "with open( '../data/data_no_header.txt', 'r' ) as f:\n",
    "    for line in f:      \n",
    "        line = line.strip().split('\\t')      \n",
    "        # дата транзакции, по максимальному и минимальному значению которой будем считать LT\n",
    "        dateTime = datetime.strptime( line[1], '%d.%m.%Y %H:%M' )      \n",
    "        user_id = line[2]\n",
    "  \n",
    "        # сумма покупки\n",
    "        amount_paid = float( line[8].replace(',', '.') )\n",
    "   \n",
    "        if Started:\n",
    "            previous_user_id = user_id\n",
    "            user_id_transactions = [[dateTime, amount_paid]]\n",
    "            Started = False     \n",
    "        else:\n",
    "            if user_id == previous_user_id:\n",
    "                user_id_transactions.append([dateTime,amount_paid])\n",
    "            else:\n",
    "                total = LT_calculation(user_id_transactions)\n",
    "                print(previous_user_id, total)\n",
    "                previous_user_id = user_id\n",
    "                user_id_transactions = [[dateTime, amount_paid]]\n",
    "                \n",
    "    "
   ]
  },
  {
   "cell_type": "code",
   "execution_count": null,
   "metadata": {},
   "outputs": [],
   "source": []
  },
  {
   "cell_type": "code",
   "execution_count": null,
   "metadata": {},
   "outputs": [],
   "source": []
  },
  {
   "cell_type": "code",
   "execution_count": null,
   "metadata": {},
   "outputs": [],
   "source": []
  }
 ],
 "metadata": {
  "kernelspec": {
   "display_name": "Python 3",
   "language": "python",
   "name": "python3"
  },
  "language_info": {
   "codemirror_mode": {
    "name": "ipython",
    "version": 3
   },
   "file_extension": ".py",
   "mimetype": "text/x-python",
   "name": "python",
   "nbconvert_exporter": "python",
   "pygments_lexer": "ipython3",
   "version": "3.6.4"
  }
 },
 "nbformat": 4,
 "nbformat_minor": 2
}
